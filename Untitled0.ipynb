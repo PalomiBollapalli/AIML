{
  "nbformat": 4,
  "nbformat_minor": 0,
  "metadata": {
    "colab": {
      "provenance": [],
      "authorship_tag": "ABX9TyOjJWfMOa7gK5WwXWheis91",
      "include_colab_link": true
    },
    "kernelspec": {
      "name": "python3",
      "display_name": "Python 3"
    },
    "language_info": {
      "name": "python"
    }
  },
  "cells": [
    {
      "cell_type": "markdown",
      "metadata": {
        "id": "view-in-github",
        "colab_type": "text"
      },
      "source": [
        "<a href=\"https://colab.research.google.com/github/PalomiBollapalli/AIML/blob/main/Untitled0.ipynb\" target=\"_parent\"><img src=\"https://colab.research.google.com/assets/colab-badge.svg\" alt=\"Open In Colab\"/></a>"
      ]
    },
    {
      "cell_type": "code",
      "execution_count": 19,
      "metadata": {
        "colab": {
          "base_uri": "https://localhost:8080/"
        },
        "id": "AS5PM73-jcl1",
        "outputId": "6f95d41f-44cd-4ab2-c8d1-894dc0f9ee33"
      },
      "outputs": [
        {
          "output_type": "stream",
          "name": "stdout",
          "text": [
            "['palomi', 'ashu', 'deepa']\n",
            "<class 'list'>\n",
            "3\n"
          ]
        }
      ],
      "source": [
        "\n",
        "import numpy as np\n",
        "names=['palomi','ashu','deepa']\n",
        "print(names)\n",
        "print(type(names))\n",
        "print(len(names))"
      ]
    },
    {
      "cell_type": "code",
      "source": [
        "import numpy as np\n",
        "num_array=np.array([1,2,3,4])\n",
        "print(num_array)\n",
        "print(type(num_array))"
      ],
      "metadata": {
        "colab": {
          "base_uri": "https://localhost:8080/"
        },
        "id": "Gunw-iVdvs0V",
        "outputId": "a5b29d7a-7e58-4745-ab2a-ef057868217e"
      },
      "execution_count": 18,
      "outputs": [
        {
          "output_type": "stream",
          "name": "stdout",
          "text": [
            "[1 2 3 4]\n",
            "<class 'numpy.ndarray'>\n"
          ]
        }
      ]
    },
    {
      "cell_type": "code",
      "source": [
        "import numpy as np\n",
        "num=np.array([1,2,3,4])\n",
        "print(type(num))"
      ],
      "metadata": {
        "colab": {
          "base_uri": "https://localhost:8080/"
        },
        "id": "mPi-wSaivxTc",
        "outputId": "ebb87479-96b1-44e9-f4ce-b7bd5f8d2eae"
      },
      "execution_count": 20,
      "outputs": [
        {
          "output_type": "stream",
          "name": "stdout",
          "text": [
            "<class 'numpy.ndarray'>\n"
          ]
        }
      ]
    },
    {
      "cell_type": "code",
      "source": [
        "import numpy as np\n",
        "array1=np.array([3,4,5,6])\n",
        "array2=np.array([2,5,6,7])\n",
        "print(array1*array2)\n",
        "print(array1/array2)\n",
        "print(np.power(array1,2))"
      ],
      "metadata": {
        "colab": {
          "base_uri": "https://localhost:8080/"
        },
        "id": "PUohsZSXyJE5",
        "outputId": "f6731a6c-5170-4cf4-f997-6f1c03ff532d"
      },
      "execution_count": 30,
      "outputs": [
        {
          "output_type": "stream",
          "name": "stdout",
          "text": [
            "[ 6 20 30 42]\n",
            "[1.5        0.8        0.83333333 0.85714286]\n",
            "[ 9 16 25 36]\n"
          ]
        }
      ]
    },
    {
      "cell_type": "code",
      "source": [
        "import numpy as np\n",
        "array1=np.array([3,4,5,6])\n",
        "array2=np.array([2,5,6,7])\n",
        "print(\"addition of two:\",array1+array2)"
      ],
      "metadata": {
        "colab": {
          "base_uri": "https://localhost:8080/"
        },
        "id": "_TXUzAYU0LFe",
        "outputId": "14028cd4-412d-4410-f198-f0ae26220589"
      },
      "execution_count": 26,
      "outputs": [
        {
          "output_type": "stream",
          "name": "stdout",
          "text": [
            "addition of two: [ 5  9 11 13]\n"
          ]
        }
      ]
    },
    {
      "cell_type": "code",
      "source": [
        "import numpy as np\n",
        "my_array=np.array([1,2,3,4,5])\n",
        "sin=np.sin(my_array)\n",
        "print(sin)\n",
        "log=np.log(my_array)\n",
        "print(log)\n",
        "log2=np.log2(my_array)\n",
        "print(log2)\n",
        "exp=np.exp(my_array)\n",
        "print(exp)"
      ],
      "metadata": {
        "colab": {
          "base_uri": "https://localhost:8080/"
        },
        "id": "vVmufuGk1Q6u",
        "outputId": "aa1ffa57-eddb-4675-f95a-ca891c074dbc"
      },
      "execution_count": 28,
      "outputs": [
        {
          "output_type": "stream",
          "name": "stdout",
          "text": [
            "[ 0.84147098  0.90929743  0.14112001 -0.7568025  -0.95892427]\n",
            "[0.         0.69314718 1.09861229 1.38629436 1.60943791]\n",
            "[0.         1.         1.5849625  2.         2.32192809]\n",
            "[  2.71828183   7.3890561   20.08553692  54.59815003 148.4131591 ]\n"
          ]
        }
      ]
    }
  ]
}